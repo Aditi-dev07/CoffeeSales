{
 "cells": [
  {
   "cell_type": "code",
   "execution_count": null,
   "metadata": {},
   "outputs": [
    {
     "ename": "",
     "evalue": "",
     "output_type": "error",
     "traceback": [
      "\u001b[1;31mRunning cells with 'Python 3.12.9' requires the ipykernel package.\n",
      "\u001b[1;31mRun the following command to install 'ipykernel' into the Python environment. \n",
      "\u001b[1;31mCommand: 'c:/Users/khush/AppData/Local/Microsoft/WindowsApps/python3.12.exe -m pip install ipykernel -U --user --force-reinstall'"
     ]
    }
   ],
   "source": [
    "import pandas as pd\n",
    "import numpy as np\n",
    "import matplotlib.pyplot as plt\n",
    "import seaborn as sns\n",
    "from statsmodels.tsa.holtwinters import ExponentialSmoothing"
   ]
  },
  {
   "cell_type": "code",
   "execution_count": null,
   "metadata": {},
   "outputs": [],
   "source": [
    "# Load data\n",
    "data = pd.read_csv(\"index.csv\")\n",
    "data.head()"
   ]
  },
  {
   "cell_type": "code",
   "execution_count": null,
   "metadata": {},
   "outputs": [],
   "source": [
    "# Data Cleaning\n",
    "data['card'].fillna('cash', inplace=True)\n",
    "data['date'] = pd.to_datetime(data['date'])\n",
    "data['datetime'] = pd.to_datetime(data['datetime'])"
   ]
  },
  {
   "cell_type": "code",
   "execution_count": null,
   "metadata": {},
   "outputs": [],
   "source": [
    "# Feature Engineering for Time Series EDA\n",
    "data['month'] = data['date'].dt.strftime('%Y-%m')\n",
    "data['day'] = data['date'].dt.strftime('%w').astype(int)  # Day of the week\n",
    "data['hour'] = data['datetime'].dt.strftime('%H').astype(int)"
   ]
  },
  {
   "cell_type": "code",
   "execution_count": null,
   "metadata": {},
   "outputs": [],
   "source": [
    "# Task 1: Time Series Exploratory Data Analysis\n",
    "# Monthly Sales Trends\n",
    "monthly_sales = data.groupby(['month', 'coffee_name']).count()['date'].unstack(fill_value=0)\n",
    "\n",
    "plt.figure(figsize=(12, 6))\n",
    "monthly_sales.plot(kind='line', marker='o', figsize=(12, 6))\n",
    "plt.title(\"Monthly Sales Trends by Coffee Type\")\n",
    "plt.xlabel(\"Month\")\n",
    "plt.ylabel(\"Sales Count\")\n",
    "plt.grid()\n",
    "plt.show()"
   ]
  },
  {
   "cell_type": "code",
   "execution_count": null,
   "metadata": {},
   "outputs": [],
   "source": [
    "# Weekly Sales Trends\n",
    "weekday_sales = data.groupby('day').count()['date']\n",
    "plt.figure(figsize=(8, 5))\n",
    "sns.barplot(x=weekday_sales.index, y=weekday_sales.values, color='steelblue')\n",
    "plt.xticks(ticks=range(7), labels=['Sun', 'Mon', 'Tue', 'Wed', 'Thu', 'Fri', 'Sat'])\n",
    "plt.title(\"Sales by Weekday\")\n",
    "plt.xlabel(\"Day of the Week\")\n",
    "plt.ylabel(\"Number of Sales\")\n",
    "plt.show()"
   ]
  },
  {
   "cell_type": "code",
   "execution_count": null,
   "metadata": {},
   "outputs": [],
   "source": [
    "# Hourly Sales Trends\n",
    "hourly_sales = data.groupby('hour').count()['date']\n",
    "plt.figure(figsize=(8, 5))\n",
    "sns.barplot(x=hourly_sales.index, y=hourly_sales.values, color='steelblue')\n",
    "plt.title(\"Hourly Sales Distribution\")\n",
    "plt.xlabel(\"Hour of the Day\")\n",
    "plt.ylabel(\"Number of Sales\")\n",
    "plt.show()"
   ]
  },
  {
   "cell_type": "code",
   "execution_count": null,
   "metadata": {},
   "outputs": [],
   "source": [
    "# Task 2: Next Day/Week/Month Sales Prediction\n",
    "# Aggregate daily sales\n",
    "daily_sales = data.groupby('date').sum(numeric_only=True).reset_index()\n",
    "daily_sales.set_index('date', inplace=True)"
   ]
  },
  {
   "cell_type": "code",
   "execution_count": null,
   "metadata": {},
   "outputs": [],
   "source": [
    "# Fit a simple exponential smoothing model\n",
    "model = ExponentialSmoothing(daily_sales['money'], trend=\"add\", seasonal=\"add\", seasonal_periods=7)\n",
    "fit_model = model.fit()\n",
    "forecast = fit_model.forecast(steps=7)  # Forecasting next week"
   ]
  },
  {
   "cell_type": "code",
   "execution_count": null,
   "metadata": {},
   "outputs": [],
   "source": [
    "# Display Forecast\n",
    "print(\"Forecasted Sales for the Next 7 Days:\")\n",
    "print(forecast)"
   ]
  },
  {
   "cell_type": "code",
   "execution_count": null,
   "metadata": {},
   "outputs": [],
   "source": [
    "\n",
    "# Plot Forecast with Improvements\n",
    "plt.figure(figsize=(12, 6))\n",
    "\n",
    "# Plot actual sales\n",
    "plt.plot(daily_sales.index, daily_sales['money'], label='Actual Sales', color='skyblue', linewidth=2)\n",
    "\n",
    "# Plot fitted values\n",
    "plt.plot(fit_model.fittedvalues.index, fit_model.fittedvalues, label='Fitted Sales', color='red', linestyle='--', linewidth=2)\n",
    "\n",
    "# Plot forecasted values\n",
    "forecast_dates = pd.date_range(start=daily_sales.index[-1] + pd.Timedelta(days=1), periods=7)\n",
    "plt.plot(forecast_dates, forecast, label='Forecasted Sales', color='orange', linestyle='-.', linewidth=2, marker='o')\n",
    "\n",
    "# Formatting and readability enhancements\n",
    "plt.title(\"Daily Sales: Actual, Fitted, and Forecasted\", fontsize=16)\n",
    "plt.xlabel(\"Date\", fontsize=14)\n",
    "plt.ylabel(\"Sales Revenue\", fontsize=14)\n",
    "plt.legend(fontsize=12)\n",
    "plt.grid(axis='y', linestyle='--', alpha=0.7)\n",
    "plt.xticks(rotation=45)\n",
    "plt.tight_layout()\n",
    "\n",
    "# Show the plot\n",
    "plt.show()"
   ]
  },
  {
   "cell_type": "code",
   "execution_count": null,
   "metadata": {},
   "outputs": [],
   "source": [
    "# Task 3: Specific Customer Purchases\n",
    "if 'card' in data.columns:\n",
    "    customer_purchases = data.groupby('card').agg({\n",
    "        'money': 'sum',\n",
    "        'coffee_name': lambda x: x.value_counts().idxmax()\n",
    "    }).rename(columns={'money': 'total_spent', 'coffee_name': 'favorite_coffee'})\n",
    "    \n",
    "    print(\"Top 5 Customers by Total Spending:\")\n",
    "    print(customer_purchases.sort_values(by='total_spent', ascending=False).head(6))\n"
   ]
  }
 ],
 "metadata": {
  "kernelspec": {
   "display_name": "Python 3",
   "language": "python",
   "name": "python3"
  },
  "language_info": {
   "codemirror_mode": {
    "name": "ipython",
    "version": 3
   },
   "file_extension": ".py",
   "mimetype": "text/x-python",
   "name": "python",
   "nbconvert_exporter": "python",
   "pygments_lexer": "ipython3",
   "version": "3.12.9"
  }
 },
 "nbformat": 4,
 "nbformat_minor": 2
}
